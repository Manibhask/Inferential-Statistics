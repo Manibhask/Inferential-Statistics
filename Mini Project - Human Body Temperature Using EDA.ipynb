{
 "cells": [
  {
   "cell_type": "markdown",
   "metadata": {},
   "source": [
    "# What is the True Normal Human Body Temperature? \n",
    "\n",
    "#### Background\n",
    "\n",
    "The mean normal body temperature was held to be 37$^{\\circ}$C or 98.6$^{\\circ}$F for more than 120 years since it was first conceptualized and reported by Carl Wunderlich in a famous 1868 book. But, is this value statistically correct?"
   ]
  },
  {
   "cell_type": "markdown",
   "metadata": {},
   "source": [
    "<h3>Exercises</h3>\n",
    "\n",
    "<p>In this exercise, you will analyze a dataset of human body temperatures and employ the concepts of hypothesis testing, confidence intervals, and statistical significance.</p>\n",
    "\n",
    "<p>Answer the following questions <b>in this notebook below and submit to your Github account</b>.</p> \n",
    "\n",
    "<ol>\n",
    "<li>  Is the distribution of body temperatures normal? \n",
    "    <ul>\n",
    "    <li> Although this is not a requirement for CLT to hold (read CLT carefully), it gives us some peace of mind that the population may also be normally distributed if we assume that this sample is representative of the population.\n",
    "    </ul>\n",
    "<li>  Is the sample size large? Are the observations independent?\n",
    "    <ul>\n",
    "    <li> Remember that this is a condition for the CLT, and hence the statistical tests we are using, to apply.\n",
    "    </ul>\n",
    "<li>  Is the true population mean really 98.6 degrees F?\n",
    "    <ul>\n",
    "    <li> Would you use a one-sample or two-sample test? Why?\n",
    "    <li> In this situation, is it appropriate to use the $t$ or $z$ statistic? \n",
    "    <li> Now try using the other test. How is the result be different? Why?\n",
    "    </ul>\n",
    "<li>  Draw a small sample of size 10 from the data and repeat both tests. \n",
    "    <ul>\n",
    "    <li> Which one is the correct one to use? \n",
    "    <li> What do you notice? What does this tell you about the difference in application of the $t$ and $z$ statistic?\n",
    "    </ul>\n",
    "<li>  At what temperature should we consider someone's temperature to be \"abnormal\"?\n",
    "    <ul>\n",
    "    <li> Start by computing the margin of error and confidence interval.\n",
    "    </ul>\n",
    "<li>  Is there a significant difference between males and females in normal temperature?\n",
    "    <ul>\n",
    "    <li> What test did you use and why?\n",
    "    <li> Write a story with your conclusion in the context of the original problem.\n",
    "    </ul>\n",
    "</ol>\n",
    "\n",
    "You can include written notes in notebook cells using Markdown: \n",
    "   - In the control panel at the top, choose Cell > Cell Type > Markdown\n",
    "   - Markdown syntax: http://nestacms.com/docs/creating-content/markdown-cheat-sheet\n",
    "\n",
    "#### Resources\n",
    "\n",
    "+ Information and data sources: http://www.amstat.org/publications/jse/datasets/normtemp.txt, http://www.amstat.org/publications/jse/jse_data_archive.htm\n",
    "+ Markdown syntax: http://nestacms.com/docs/creating-content/markdown-cheat-sheet\n",
    "\n",
    "****"
   ]
  },
  {
   "cell_type": "markdown",
   "metadata": {},
   "source": [
    "Let's start with importing the libraries and moving the csv into pandas dataframe"
   ]
  },
  {
   "cell_type": "code",
   "execution_count": 16,
   "metadata": {
    "collapsed": true
   },
   "outputs": [],
   "source": [
    "import pandas as pd\n",
    "import numpy as np\n",
    "import matplotlib.pyplot as plt\n",
    "import matplotlib.mlab as mlab\n",
    "import seaborn as sns\n",
    "from scipy.stats import norm\n",
    "import scipy.stats as stats\n",
    "import math"
   ]
  },
  {
   "cell_type": "code",
   "execution_count": 2,
   "metadata": {
    "collapsed": true
   },
   "outputs": [],
   "source": [
    "# let's store the dataframe as df\n",
    "df = pd.read_csv('data/human_body_temperature.csv')"
   ]
  },
  {
   "cell_type": "code",
   "execution_count": 3,
   "metadata": {},
   "outputs": [
    {
     "data": {
      "text/html": [
       "<div>\n",
       "<style>\n",
       "    .dataframe thead tr:only-child th {\n",
       "        text-align: right;\n",
       "    }\n",
       "\n",
       "    .dataframe thead th {\n",
       "        text-align: left;\n",
       "    }\n",
       "\n",
       "    .dataframe tbody tr th {\n",
       "        vertical-align: top;\n",
       "    }\n",
       "</style>\n",
       "<table border=\"1\" class=\"dataframe\">\n",
       "  <thead>\n",
       "    <tr style=\"text-align: right;\">\n",
       "      <th></th>\n",
       "      <th>temperature</th>\n",
       "      <th>gender</th>\n",
       "      <th>heart_rate</th>\n",
       "    </tr>\n",
       "  </thead>\n",
       "  <tbody>\n",
       "    <tr>\n",
       "      <th>0</th>\n",
       "      <td>99.3</td>\n",
       "      <td>F</td>\n",
       "      <td>68.0</td>\n",
       "    </tr>\n",
       "    <tr>\n",
       "      <th>1</th>\n",
       "      <td>98.4</td>\n",
       "      <td>F</td>\n",
       "      <td>81.0</td>\n",
       "    </tr>\n",
       "    <tr>\n",
       "      <th>2</th>\n",
       "      <td>97.8</td>\n",
       "      <td>M</td>\n",
       "      <td>73.0</td>\n",
       "    </tr>\n",
       "    <tr>\n",
       "      <th>3</th>\n",
       "      <td>99.2</td>\n",
       "      <td>F</td>\n",
       "      <td>66.0</td>\n",
       "    </tr>\n",
       "    <tr>\n",
       "      <th>4</th>\n",
       "      <td>98.0</td>\n",
       "      <td>F</td>\n",
       "      <td>73.0</td>\n",
       "    </tr>\n",
       "  </tbody>\n",
       "</table>\n",
       "</div>"
      ],
      "text/plain": [
       "   temperature gender  heart_rate\n",
       "0         99.3      F        68.0\n",
       "1         98.4      F        81.0\n",
       "2         97.8      M        73.0\n",
       "3         99.2      F        66.0\n",
       "4         98.0      F        73.0"
      ]
     },
     "execution_count": 3,
     "metadata": {},
     "output_type": "execute_result"
    }
   ],
   "source": [
    "# top rows\n",
    "df.head()"
   ]
  },
  {
   "cell_type": "code",
   "execution_count": 5,
   "metadata": {},
   "outputs": [
    {
     "data": {
      "text/plain": [
       "temperature    0\n",
       "gender         0\n",
       "heart_rate     0\n",
       "dtype: int64"
      ]
     },
     "execution_count": 5,
     "metadata": {},
     "output_type": "execute_result"
    }
   ],
   "source": [
    "# All good, no values are missing\n",
    "df.isnull().sum()"
   ]
  },
  {
   "cell_type": "code",
   "execution_count": 6,
   "metadata": {},
   "outputs": [
    {
     "data": {
      "text/html": [
       "<div>\n",
       "<style>\n",
       "    .dataframe thead tr:only-child th {\n",
       "        text-align: right;\n",
       "    }\n",
       "\n",
       "    .dataframe thead th {\n",
       "        text-align: left;\n",
       "    }\n",
       "\n",
       "    .dataframe tbody tr th {\n",
       "        vertical-align: top;\n",
       "    }\n",
       "</style>\n",
       "<table border=\"1\" class=\"dataframe\">\n",
       "  <thead>\n",
       "    <tr style=\"text-align: right;\">\n",
       "      <th></th>\n",
       "      <th>temperature</th>\n",
       "      <th>heart_rate</th>\n",
       "    </tr>\n",
       "  </thead>\n",
       "  <tbody>\n",
       "    <tr>\n",
       "      <th>count</th>\n",
       "      <td>130.000000</td>\n",
       "      <td>130.000000</td>\n",
       "    </tr>\n",
       "    <tr>\n",
       "      <th>mean</th>\n",
       "      <td>98.249231</td>\n",
       "      <td>73.761538</td>\n",
       "    </tr>\n",
       "    <tr>\n",
       "      <th>std</th>\n",
       "      <td>0.733183</td>\n",
       "      <td>7.062077</td>\n",
       "    </tr>\n",
       "    <tr>\n",
       "      <th>min</th>\n",
       "      <td>96.300000</td>\n",
       "      <td>57.000000</td>\n",
       "    </tr>\n",
       "    <tr>\n",
       "      <th>25%</th>\n",
       "      <td>97.800000</td>\n",
       "      <td>69.000000</td>\n",
       "    </tr>\n",
       "    <tr>\n",
       "      <th>50%</th>\n",
       "      <td>98.300000</td>\n",
       "      <td>74.000000</td>\n",
       "    </tr>\n",
       "    <tr>\n",
       "      <th>75%</th>\n",
       "      <td>98.700000</td>\n",
       "      <td>79.000000</td>\n",
       "    </tr>\n",
       "    <tr>\n",
       "      <th>max</th>\n",
       "      <td>100.800000</td>\n",
       "      <td>89.000000</td>\n",
       "    </tr>\n",
       "  </tbody>\n",
       "</table>\n",
       "</div>"
      ],
      "text/plain": [
       "       temperature  heart_rate\n",
       "count   130.000000  130.000000\n",
       "mean     98.249231   73.761538\n",
       "std       0.733183    7.062077\n",
       "min      96.300000   57.000000\n",
       "25%      97.800000   69.000000\n",
       "50%      98.300000   74.000000\n",
       "75%      98.700000   79.000000\n",
       "max     100.800000   89.000000"
      ]
     },
     "execution_count": 6,
     "metadata": {},
     "output_type": "execute_result"
    }
   ],
   "source": [
    "# some statistics\n",
    "df.describe()"
   ]
  },
  {
   "cell_type": "markdown",
   "metadata": {},
   "source": [
    "### *1. The distribution of body temperatures follows the Normal distribution's Bell Curve*"
   ]
  },
  {
   "cell_type": "code",
   "execution_count": 9,
   "metadata": {},
   "outputs": [
    {
     "data": {
      "image/png": "[encoded data removed]",
      "text/plain": [
       "<matplotlib.figure.Figure at 0x1d54509a320>"
      ]
     },
     "metadata": {},
     "output_type": "display_data"
    }
   ],
   "source": [
    "# Distplot for temperature using seaborn\n",
    "x = df.temperature\n",
    "sns.distplot(x)\n",
    "plt.show();"
   ]
  },
  {
   "cell_type": "code",
   "execution_count": 38,
   "metadata": {},
   "outputs": [
    {
     "data": {
      "image/png": "[encoded data removed]",
      "text/plain": [
       "<matplotlib.figure.Figure at 0x1d548ff7d68>"
      ]
     },
     "metadata": {},
     "output_type": "display_data"
    }
   ],
   "source": [
    "# Plots the ECDF and CDF of the human body temperatures\n",
    "def ecdf(data):\n",
    "    \"\"\"\n",
    "    Compute ECDF for a one-dimensional array of measurements.\n",
    "    Returns tuple of arrays (x,y) that contain x and y values for ECDF.\n",
    "    \"\"\"\n",
    "    x = np.sort(data)\n",
    "    y = np.arange(1, len(x) + 1) / len(x)\n",
    "    \n",
    "    return x, y\n",
    "\n",
    "x_ecdf, y_ecdf = ecdf(df['temperature'])\n",
    "\n",
    "temperature_theoretical = np.random.normal(np.mean(df['temperature']), np.std(df['temperature']), size=10000)\n",
    "\n",
    "x_theoretical_cdf, y_theoretical_cdf = ecdf(temperature_theoretical)\n",
    "\n",
    "plt.plot(x_ecdf, y_ecdf, marker='.', linestyle='none')\n",
    "plt.plot(x_theoretical_cdf, y_theoretical_cdf)\n",
    "plt.xlabel('Temperature(F)')\n",
    "plt.ylabel('CDF')\n",
    "plt.title('Human Body Temperature')\n",
    "plt.legend(('CDF', 'ECDF'), loc='lower right')\n",
    "plt.show()"
   ]
  },
  {
   "cell_type": "markdown",
   "metadata": {},
   "source": [
    "### *2. Yes, the sample size is large since it has 130 observations which is greater than the usual 30. Yes all observations are independent since the effect of one does not affect the other.*"
   ]
  },
  {
   "cell_type": "code",
   "execution_count": 10,
   "metadata": {},
   "outputs": [
    {
     "data": {
      "text/plain": [
       "(130, 3)"
      ]
     },
     "execution_count": 10,
     "metadata": {},
     "output_type": "execute_result"
    }
   ],
   "source": [
    "df.shape"
   ]
  },
  {
   "cell_type": "markdown",
   "metadata": {},
   "source": [
    "### *3. A one sample t test is advisable to use here since we have only one set of data that will be validated against the mean. In our case it is better to use the z statistic because the sample size is large. By trying a t-test the result did not much differ.*"
   ]
  },
  {
   "cell_type": "markdown",
   "metadata": {},
   "source": [
    "Hypothesis Testing in which the Null Hypothesis means the sample and true mean are the same and the alternate hypothesis says\n",
    "they are not."
   ]
  },
  {
   "cell_type": "markdown",
   "metadata": {},
   "source": [
    "$H_0$: The mean of the sample and the true mean of 98.6 are the same. $\\mu=\\mu_0$\n",
    "\n",
    "$H_A$: The means are different. $\\mu\\neq\\mu_0$"
   ]
  },
  {
   "cell_type": "code",
   "execution_count": 13,
   "metadata": {},
   "outputs": [
    {
     "name": "stdout",
     "output_type": "stream",
     "text": [
      "p = 0.0\n"
     ]
    }
   ],
   "source": [
    "# p value using 100000 boostrap replicates\n",
    "bootstrap_replicates = np.empty(100000)\n",
    "\n",
    "size = len(bootstrap_replicates)\n",
    "\n",
    "for i in range(size):\n",
    "    bootstrap_sample = np.random.choice(df['temperature'], size=len(df['temperature']))\n",
    "    bootstrap_replicates[i] = np.mean(bootstrap_sample)\n",
    "\n",
    "p = np.sum(bootstrap_replicates >= 98.6) / len(bootstrap_replicates)\n",
    "print('p =', p)"
   ]
  },
  {
   "cell_type": "markdown",
   "metadata": {},
   "source": [
    "**The p value is extremely small even after 100000 replicates which means the null hypothesis is false, which inturn means that\n",
    "the true population mean is not equal to 98.6**"
   ]
  },
  {
   "cell_type": "code",
   "execution_count": 18,
   "metadata": {},
   "outputs": [
    {
     "name": "stdout",
     "output_type": "stream",
     "text": [
      "z = -5.47592520208\n",
      "p = p(z >= 5.476) + p(z <= -5.476) = 4.35231516588e-08\n"
     ]
    }
   ],
   "source": [
    "# z test\n",
    "z = (np.mean(df['temperature']) - 98.6) / (np.std(df['temperature']) / np.sqrt(len(df['temperature'])))\n",
    "print('z =', z)\n",
    "\n",
    "p_z = stats.norm.sf(abs(z))*2\n",
    "print('p = p(z >= 5.476) + p(z <= -5.476) =', p_z)"
   ]
  },
  {
   "cell_type": "code",
   "execution_count": 20,
   "metadata": {},
   "outputs": [
    {
     "name": "stdout",
     "output_type": "stream",
     "text": [
      "t = -5.47592520208\n",
      "p = p(t >= 5.476) + p(t <= -5.476) = 2.18874646241e-07\n"
     ]
    }
   ],
   "source": [
    "# t test\n",
    "t = z\n",
    "print('t =', t)\n",
    "\n",
    "p_t = stats.t.sf(np.abs(t), len(df['temperature'])-1)*2\n",
    "print('p = p(t >= 5.476) + p(t <= -5.476) =', p_t)"
   ]
  },
  {
   "cell_type": "markdown",
   "metadata": {},
   "source": [
    "### *4. The t test is the best to use for small sample size as the below t and z tests have a huge difference in the p value with z test totally performing bad. So t is the best.*"
   ]
  },
  {
   "cell_type": "code",
   "execution_count": 22,
   "metadata": {},
   "outputs": [
    {
     "data": {
      "text/plain": [
       "array([ 98.6,  96.7,  98.2,  99. ,  97.8,  97.4,  98.6,  99.2,  98.6,  97.1])"
      ]
     },
     "execution_count": 22,
     "metadata": {},
     "output_type": "execute_result"
    }
   ],
   "source": [
    "# Draws random sample of 10\n",
    "sample = np.random.choice(df['temperature'], size=10)\n",
    "\n",
    "sample"
   ]
  },
  {
   "cell_type": "code",
   "execution_count": 32,
   "metadata": {},
   "outputs": [
    {
     "name": "stdout",
     "output_type": "stream",
     "text": [
      "t = -1.90994198971\n",
      "p =  0.000392231622671\n"
     ]
    }
   ],
   "source": [
    "# Performs t test\n",
    "t2 = (np.mean(sample) - 98.6) / (np.std(sample) / np.sqrt(len(sample)))\n",
    "\n",
    "print('t =', t2)\n",
    "\n",
    "p_t2 = stats.t.sf(np.abs(t), len(sample)-1)*2\n",
    "print('p = ', p_t2)"
   ]
  },
  {
   "cell_type": "code",
   "execution_count": 33,
   "metadata": {},
   "outputs": [
    {
     "name": "stdout",
     "output_type": "stream",
     "text": [
      "z = -1.90994198971\n",
      "p = 4.35231516588e-08\n"
     ]
    }
   ],
   "source": [
    "# Performs z test\n",
    "z2 = (np.mean(sample) - 98.6) / (np.std(sample) / np.sqrt(len(sample)))\n",
    "\n",
    "print('z =', z2)\n",
    "\n",
    "p_z2 = stats.norm.sf(abs(z))*2\n",
    "print('p =', p_z2)"
   ]
  },
  {
   "cell_type": "markdown",
   "metadata": {},
   "source": [
    "### *5. When the temperature doesnt lie between our 95% confidence interval i.e the computed range (96.7225 - 99.4775) then they have a abnormal body temperature*"
   ]
  },
  {
   "cell_type": "code",
   "execution_count": 34,
   "metadata": {},
   "outputs": [
    {
     "name": "stdout",
     "output_type": "stream",
     "text": [
      "The mean temperature of the data is 98.24923076923078\n",
      "margin of error for a sample mean = 0.125550964803\n"
     ]
    }
   ],
   "source": [
    "# Calculates margin of error for sample mean with 95% confidence\n",
    "\n",
    "print('The mean temperature of the data is', np.mean(df['temperature']))\n",
    "\n",
    "z = 1.96 # this is the value of z for 95% confidence\n",
    "\n",
    "error = z * np.std(df['temperature']) / np.sqrt(len(df['temperature']))\n",
    "\n",
    "print('margin of error for a sample mean =', error)"
   ]
  },
  {
   "cell_type": "markdown",
   "metadata": {},
   "source": [
    "Okay let's calculate the 95% confidence interval range below"
   ]
  },
  {
   "cell_type": "code",
   "execution_count": 36,
   "metadata": {},
   "outputs": [
    {
     "name": "stdout",
     "output_type": "stream",
     "text": [
      "We expect 95% of the temperature data to be between 96.7225 and 99.4775\n"
     ]
    }
   ],
   "source": [
    "# Calculates 95% confidence interval\n",
    "confidence_interval = np.percentile(df['temperature'], [2.5, 97.5])\n",
    "\n",
    "print('We expect 95% of the temperature data to be between', confidence_interval[0], 'and', confidence_interval[1])"
   ]
  },
  {
   "cell_type": "markdown",
   "metadata": {},
   "source": [
    "### *6. A two-sample permutation test with the differences in means will be appropriate for this problem.A permuatation test is appropriate for this because we will be testing whether males and females have the same distribution and similar mean temperatures.*"
   ]
  },
  {
   "cell_type": "code",
   "execution_count": 39,
   "metadata": {},
   "outputs": [
    {
     "data": {
      "image/png": "[encoded data removed]",
      "text/plain": [
       "<matplotlib.figure.Figure at 0x1d54a0cb240>"
      ]
     },
     "metadata": {},
     "output_type": "display_data"
    },
    {
     "name": "stdout",
     "output_type": "stream",
     "text": [
      "The difference between the male and female mean temperatures is 0.289230769231\n"
     ]
    }
   ],
   "source": [
    "# Plots the ECDF for the temperatures of males and females\n",
    "\n",
    "male_temperature = df[df['gender'] == 'M']['temperature']\n",
    "female_temperature = df[df['gender'] == 'F']['temperature']\n",
    "\n",
    "x_male, y_male = ecdf(male_temperature)\n",
    "x_female, y_female = ecdf(female_temperature)\n",
    "\n",
    "plt.plot(x_male, y_male, marker='.', linestyle='none', color='red')\n",
    "plt.plot(x_male, y_male, marker='.', linestyle='none', color='blue')\n",
    "plt.xlabel('Temperature(F)')\n",
    "plt.ylabel('ECDF')\n",
    "plt.legend(('Male', 'Female'), loc='lower right')\n",
    "plt.title('Male vs Female: Human Body Temperature')\n",
    "plt.show()\n",
    "\n",
    "male_and_female_diff = np.abs(np.mean(male_temperature) - np.mean(female_temperature))\n",
    "print('The difference between the male and female mean temperatures is', male_and_female_diff)"
   ]
  },
  {
   "cell_type": "markdown",
   "metadata": {},
   "source": [
    "$H_0$: There is no difference in the distribution and means of males and females.\n",
    "\n",
    "$H_A$: There is a difference in the distribution and means of males and females."
   ]
  },
  {
   "cell_type": "code",
   "execution_count": 40,
   "metadata": {},
   "outputs": [
    {
     "name": "stdout",
     "output_type": "stream",
     "text": [
      "p = 0.02409\n"
     ]
    }
   ],
   "source": [
    "permutation_replicates = np.empty(100000)\n",
    "\n",
    "size = len(permutation_replicates)\n",
    "\n",
    "for i in range(size):\n",
    "    combined_perm_temperatures = np.random.permutation(np.concatenate((male_temperature, female_temperature)))\n",
    "\n",
    "    male_permutation = combined_perm_temperatures[:len(male_temperature)]\n",
    "    female_permutation = combined_perm_temperatures[len(male_temperature):]\n",
    "\n",
    "    permutation_replicates[i] = np.abs(np.mean(male_permutation) - np.mean(female_permutation))\n",
    "    \n",
    "p_val = np.sum(permutation_replicates >= male_and_female_diff) / len(permutation_replicates)\n",
    "\n",
    "print('p =', p_val)"
   ]
  },
  {
   "cell_type": "markdown",
   "metadata": {},
   "source": [
    "The p value is less than 0.05 so we can reject the null hypothesis which means that \n",
    "\n",
    "**There is a there is a difference in the distribution of male and female temperatures**"
   ]
  },
  {
   "cell_type": "markdown",
   "metadata": {},
   "source": [
    "### CONCLUSION"
   ]
  },
  {
   "cell_type": "markdown",
   "metadata": {},
   "source": [
    "The mean normal body temperature taught to us was 98.6 F or 36.9 C and after our analysis we can say that it is not all true and\n",
    "our analysis says that it lies between 96.7225 and 99.4775 also the male and female human body temperatures are significantly\n",
    "different. And it is ideal to use a t test for a sample size less than 30 and z for larger samples"
   ]
  }
 ],
 "metadata": {
  "kernelspec": {
   "display_name": "Python 3",
   "language": "python",
   "name": "python3"
  },
  "language_info": {
   "codemirror_mode": {
    "name": "ipython",
    "version": 3
   },
   "file_extension": ".py",
   "mimetype": "text/x-python",
   "name": "python",
   "nbconvert_exporter": "python",
   "pygments_lexer": "ipython3",
   "version": "3.6.1"
  }
 },
 "nbformat": 4,
 "nbformat_minor": 1
}
